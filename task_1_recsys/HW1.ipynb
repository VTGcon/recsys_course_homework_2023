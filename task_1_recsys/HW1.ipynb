{
 "cells": [
  {
   "cell_type": "code",
   "execution_count": 1,
   "metadata": {
    "collapsed": true
   },
   "outputs": [],
   "source": [
    "import category_encoders as ce\n",
    "from datetime import datetime\n",
    "import numpy as np\n",
    "import pandas as pd\n",
    "from sklearn.linear_model import LogisticRegression\n",
    "from sklearn.metrics import log_loss, roc_auc_score\n",
    "from sklearn.model_selection import cross_validate\n"
   ]
  },
  {
   "cell_type": "code",
   "execution_count": 2,
   "outputs": [
    {
     "data": {
      "text/plain": "                           date_time  zone_id  banner_id  campaign_clicks  \\\n0         2021-09-27 00:01:30.000000        0          0                0   \n1         2021-09-26 22:54:49.000000        1          1                0   \n2         2021-09-26 23:57:20.000000        2          2                3   \n3         2021-09-27 00:04:30.000000        3          3                0   \n4         2021-09-27 00:06:21.000000        4          4                0   \n...                              ...      ...        ...              ...   \n15821467  2021-10-02 15:51:35.000000      146        530                0   \n15821468  2021-09-27 22:03:14.000000       12         22                0   \n15821469  2021-10-02 17:41:10.000000       12       1236                0   \n15821470  2021-09-29 00:39:32.000000      967         21                0   \n15821471  2021-09-28 07:00:18.000000       19        635                0   \n\n          os_id  country_id  impressions  clicks  \n0             0           0            1       1  \n1             0           1            1       1  \n2             0           0            1       1  \n3             1           1            1       1  \n4             1           0            1       1  \n...         ...         ...          ...     ...  \n15821467      2           9            1       0  \n15821468      1           6            1       0  \n15821469      2           0            1       0  \n15821470      0           0            1       0  \n15821471      0           3            1       0  \n\n[15821472 rows x 8 columns]",
      "text/html": "<div>\n<style scoped>\n    .dataframe tbody tr th:only-of-type {\n        vertical-align: middle;\n    }\n\n    .dataframe tbody tr th {\n        vertical-align: top;\n    }\n\n    .dataframe thead th {\n        text-align: right;\n    }\n</style>\n<table border=\"1\" class=\"dataframe\">\n  <thead>\n    <tr style=\"text-align: right;\">\n      <th></th>\n      <th>date_time</th>\n      <th>zone_id</th>\n      <th>banner_id</th>\n      <th>campaign_clicks</th>\n      <th>os_id</th>\n      <th>country_id</th>\n      <th>impressions</th>\n      <th>clicks</th>\n    </tr>\n  </thead>\n  <tbody>\n    <tr>\n      <th>0</th>\n      <td>2021-09-27 00:01:30.000000</td>\n      <td>0</td>\n      <td>0</td>\n      <td>0</td>\n      <td>0</td>\n      <td>0</td>\n      <td>1</td>\n      <td>1</td>\n    </tr>\n    <tr>\n      <th>1</th>\n      <td>2021-09-26 22:54:49.000000</td>\n      <td>1</td>\n      <td>1</td>\n      <td>0</td>\n      <td>0</td>\n      <td>1</td>\n      <td>1</td>\n      <td>1</td>\n    </tr>\n    <tr>\n      <th>2</th>\n      <td>2021-09-26 23:57:20.000000</td>\n      <td>2</td>\n      <td>2</td>\n      <td>3</td>\n      <td>0</td>\n      <td>0</td>\n      <td>1</td>\n      <td>1</td>\n    </tr>\n    <tr>\n      <th>3</th>\n      <td>2021-09-27 00:04:30.000000</td>\n      <td>3</td>\n      <td>3</td>\n      <td>0</td>\n      <td>1</td>\n      <td>1</td>\n      <td>1</td>\n      <td>1</td>\n    </tr>\n    <tr>\n      <th>4</th>\n      <td>2021-09-27 00:06:21.000000</td>\n      <td>4</td>\n      <td>4</td>\n      <td>0</td>\n      <td>1</td>\n      <td>0</td>\n      <td>1</td>\n      <td>1</td>\n    </tr>\n    <tr>\n      <th>...</th>\n      <td>...</td>\n      <td>...</td>\n      <td>...</td>\n      <td>...</td>\n      <td>...</td>\n      <td>...</td>\n      <td>...</td>\n      <td>...</td>\n    </tr>\n    <tr>\n      <th>15821467</th>\n      <td>2021-10-02 15:51:35.000000</td>\n      <td>146</td>\n      <td>530</td>\n      <td>0</td>\n      <td>2</td>\n      <td>9</td>\n      <td>1</td>\n      <td>0</td>\n    </tr>\n    <tr>\n      <th>15821468</th>\n      <td>2021-09-27 22:03:14.000000</td>\n      <td>12</td>\n      <td>22</td>\n      <td>0</td>\n      <td>1</td>\n      <td>6</td>\n      <td>1</td>\n      <td>0</td>\n    </tr>\n    <tr>\n      <th>15821469</th>\n      <td>2021-10-02 17:41:10.000000</td>\n      <td>12</td>\n      <td>1236</td>\n      <td>0</td>\n      <td>2</td>\n      <td>0</td>\n      <td>1</td>\n      <td>0</td>\n    </tr>\n    <tr>\n      <th>15821470</th>\n      <td>2021-09-29 00:39:32.000000</td>\n      <td>967</td>\n      <td>21</td>\n      <td>0</td>\n      <td>0</td>\n      <td>0</td>\n      <td>1</td>\n      <td>0</td>\n    </tr>\n    <tr>\n      <th>15821471</th>\n      <td>2021-09-28 07:00:18.000000</td>\n      <td>19</td>\n      <td>635</td>\n      <td>0</td>\n      <td>0</td>\n      <td>3</td>\n      <td>1</td>\n      <td>0</td>\n    </tr>\n  </tbody>\n</table>\n<p>15821472 rows × 8 columns</p>\n</div>"
     },
     "execution_count": 2,
     "metadata": {},
     "output_type": "execute_result"
    }
   ],
   "source": [
    "data = pd.read_csv('data.csv')\n",
    "data = data.drop(columns=['oaid_hash', 'banner_id0', 'banner_id1', 'rate0', 'rate1', 'g0', 'g1', 'coeff_sum0', 'coeff_sum1'])\n",
    "data"
   ],
   "metadata": {
    "collapsed": false
   }
  },
  {
   "cell_type": "code",
   "execution_count": 3,
   "outputs": [
    {
     "data": {
      "text/plain": "            zone_id     banner_id  campaign_clicks         os_id  \\\ncount  1.582147e+07  1.582147e+07     1.582147e+07  1.582147e+07   \nmean   8.152679e+01  3.816483e+02     6.238540e-01  1.840605e+00   \nstd    1.632448e+02  3.959386e+02     9.249152e+00  1.530005e+00   \nmin    0.000000e+00  0.000000e+00     0.000000e+00  0.000000e+00   \n25%    1.400000e+01  5.200000e+01     0.000000e+00  1.000000e+00   \n50%    1.900000e+01  2.170000e+02     0.000000e+00  2.000000e+00   \n75%    6.000000e+01  6.110000e+02     0.000000e+00  3.000000e+00   \nmax    3.443000e+03  1.632000e+03     8.290000e+02  1.000000e+01   \n\n         country_id  impressions        clicks  \ncount  1.582147e+07   15821472.0  1.582147e+07  \nmean   4.346986e+00          1.0  2.668835e-02  \nstd    4.317701e+00          0.0  1.611710e-01  \nmin    0.000000e+00          1.0  0.000000e+00  \n25%    0.000000e+00          1.0  0.000000e+00  \n50%    4.000000e+00          1.0  0.000000e+00  \n75%    7.000000e+00          1.0  0.000000e+00  \nmax    1.600000e+01          1.0  1.000000e+00  ",
      "text/html": "<div>\n<style scoped>\n    .dataframe tbody tr th:only-of-type {\n        vertical-align: middle;\n    }\n\n    .dataframe tbody tr th {\n        vertical-align: top;\n    }\n\n    .dataframe thead th {\n        text-align: right;\n    }\n</style>\n<table border=\"1\" class=\"dataframe\">\n  <thead>\n    <tr style=\"text-align: right;\">\n      <th></th>\n      <th>zone_id</th>\n      <th>banner_id</th>\n      <th>campaign_clicks</th>\n      <th>os_id</th>\n      <th>country_id</th>\n      <th>impressions</th>\n      <th>clicks</th>\n    </tr>\n  </thead>\n  <tbody>\n    <tr>\n      <th>count</th>\n      <td>1.582147e+07</td>\n      <td>1.582147e+07</td>\n      <td>1.582147e+07</td>\n      <td>1.582147e+07</td>\n      <td>1.582147e+07</td>\n      <td>15821472.0</td>\n      <td>1.582147e+07</td>\n    </tr>\n    <tr>\n      <th>mean</th>\n      <td>8.152679e+01</td>\n      <td>3.816483e+02</td>\n      <td>6.238540e-01</td>\n      <td>1.840605e+00</td>\n      <td>4.346986e+00</td>\n      <td>1.0</td>\n      <td>2.668835e-02</td>\n    </tr>\n    <tr>\n      <th>std</th>\n      <td>1.632448e+02</td>\n      <td>3.959386e+02</td>\n      <td>9.249152e+00</td>\n      <td>1.530005e+00</td>\n      <td>4.317701e+00</td>\n      <td>0.0</td>\n      <td>1.611710e-01</td>\n    </tr>\n    <tr>\n      <th>min</th>\n      <td>0.000000e+00</td>\n      <td>0.000000e+00</td>\n      <td>0.000000e+00</td>\n      <td>0.000000e+00</td>\n      <td>0.000000e+00</td>\n      <td>1.0</td>\n      <td>0.000000e+00</td>\n    </tr>\n    <tr>\n      <th>25%</th>\n      <td>1.400000e+01</td>\n      <td>5.200000e+01</td>\n      <td>0.000000e+00</td>\n      <td>1.000000e+00</td>\n      <td>0.000000e+00</td>\n      <td>1.0</td>\n      <td>0.000000e+00</td>\n    </tr>\n    <tr>\n      <th>50%</th>\n      <td>1.900000e+01</td>\n      <td>2.170000e+02</td>\n      <td>0.000000e+00</td>\n      <td>2.000000e+00</td>\n      <td>4.000000e+00</td>\n      <td>1.0</td>\n      <td>0.000000e+00</td>\n    </tr>\n    <tr>\n      <th>75%</th>\n      <td>6.000000e+01</td>\n      <td>6.110000e+02</td>\n      <td>0.000000e+00</td>\n      <td>3.000000e+00</td>\n      <td>7.000000e+00</td>\n      <td>1.0</td>\n      <td>0.000000e+00</td>\n    </tr>\n    <tr>\n      <th>max</th>\n      <td>3.443000e+03</td>\n      <td>1.632000e+03</td>\n      <td>8.290000e+02</td>\n      <td>1.000000e+01</td>\n      <td>1.600000e+01</td>\n      <td>1.0</td>\n      <td>1.000000e+00</td>\n    </tr>\n  </tbody>\n</table>\n</div>"
     },
     "metadata": {},
     "output_type": "display_data"
    },
    {
     "name": "stdout",
     "output_type": "stream",
     "text": [
      "unique values zone_id: 3444\n",
      "unique values banner_id: 1633\n",
      "unique values campaign_clicks: 822\n",
      "unique values os_id: 11\n",
      "unique values country_id: 17\n",
      "unique values impressions: 1\n",
      "unique values clicks: 2\n"
     ]
    }
   ],
   "source": [
    "def analysis(data: pd.DataFrame):\n",
    "    display(data.describe())\n",
    "    for column in data.drop(columns=['date_time']).columns:\n",
    "        print('unique values ' + str(column) + ':', len(data[column].unique()))\n",
    "\n",
    "analysis(data)"
   ],
   "metadata": {
    "collapsed": false
   }
  },
  {
   "cell_type": "markdown",
   "source": [
    "Можно игнорировать impressions. Время разобъем по колонкам"
   ],
   "metadata": {
    "collapsed": false
   }
  },
  {
   "cell_type": "code",
   "execution_count": 4,
   "outputs": [],
   "source": [
    "def feature_engineering(data: pd.DataFrame) -> pd.DataFrame:\n",
    "    data['date_time'] = data['date_time'].apply(lambda x: datetime.strptime(x.split('.')[0],'%Y-%m-%d %H:%M:%S'))\n",
    "    data = data.drop(columns=['impressions'])\n",
    "    data['year'] = data['date_time'].dt.year\n",
    "    data['month'] = data['date_time'].dt.month\n",
    "    data['day'] = data['date_time'].dt.day\n",
    "    data['hour'] = data['date_time'].dt.hour\n",
    "    data['minute'] = data['date_time'].dt.minute\n",
    "    data['second'] = data['date_time'].dt.second\n",
    "    return data\n",
    "\n",
    "data = feature_engineering(data)"
   ],
   "metadata": {
    "collapsed": false
   }
  },
  {
   "cell_type": "markdown",
   "source": [
    "Тестовую выборку отсечем по последнему дню"
   ],
   "metadata": {
    "collapsed": false
   }
  },
  {
   "cell_type": "code",
   "execution_count": 5,
   "outputs": [
    {
     "name": "stdout",
     "output_type": "stream",
     "text": [
      "last_day 2021-10-02 00:00:00\n",
      "train_data size 13692494\n",
      "test_data size 2128978\n"
     ]
    }
   ],
   "source": [
    "last_day = data['date_time'].max().replace(hour=0, minute=0, second=0, microsecond=0)\n",
    "print('last_day ' + str(last_day))\n",
    "train_data = data[data['date_time'] < last_day]\n",
    "print('train_data size ' + str(len(train_data)))\n",
    "test_data = data[data['date_time'] >= last_day]\n",
    "print('test_data size ' + str(len(test_data)))"
   ],
   "metadata": {
    "collapsed": false
   }
  },
  {
   "cell_type": "code",
   "execution_count": 6,
   "outputs": [],
   "source": [
    "target_column = 'clicks'\n",
    "drop_columns = ['date_time', 'clicks']\n",
    "\n",
    "X_train = train_data.drop(columns=drop_columns)\n",
    "y_train = train_data[target_column]\n",
    "X_test = test_data.drop(columns=drop_columns)\n",
    "y_test = test_data[target_column]"
   ],
   "metadata": {
    "collapsed": false
   }
  },
  {
   "cell_type": "markdown",
   "source": [
    "Нужно закодировать категориальные признаки, для 'os_id' и 'country_id' можем позволить one-hot-encoding. Для 'banner_id' и 'zone_id' воспользуемся target_encoding"
   ],
   "metadata": {
    "collapsed": false
   }
  },
  {
   "cell_type": "code",
   "execution_count": null,
   "outputs": [],
   "source": [
    "one_hot_encoder = ce.OneHotEncoder(cols=['os_id', 'country_id'])\n",
    "one_hot_encoder.fit(X_train, y_train)\n",
    "X_train = one_hot_encoder.transform(X_train, y_train)\n",
    "X_test = one_hot_encoder.transform(X_test, y_test)\n",
    "\n",
    "target_encoder = ce.TargetEncoder(cols=['zone_id', 'banner_id'])\n",
    "target_encoder.fit(X_train, y_train)\n",
    "X_train = target_encoder.transform(X_train, y_train)\n",
    "X_test = target_encoder.transform(X_test, y_test)"
   ],
   "metadata": {
    "collapsed": false,
    "pycharm": {
     "is_executing": true
    }
   }
  },
  {
   "cell_type": "markdown",
   "source": [
    "В качестве бэйзлайна возьмем среднее значение"
   ],
   "metadata": {
    "collapsed": false
   }
  },
  {
   "cell_type": "code",
   "execution_count": 55,
   "outputs": [
    {
     "ename": "NameError",
     "evalue": "name 'target_column' is not defined",
     "output_type": "error",
     "traceback": [
      "\u001B[0;31m---------------------------------------------------------------------------\u001B[0m",
      "\u001B[0;31mNameError\u001B[0m                                 Traceback (most recent call last)",
      "Cell \u001B[0;32mIn[55], line 1\u001B[0m\n\u001B[0;32m----> 1\u001B[0m baseline \u001B[38;5;241m=\u001B[39m data[data[\u001B[38;5;124m'\u001B[39m\u001B[38;5;124mdate_time\u001B[39m\u001B[38;5;124m'\u001B[39m] \u001B[38;5;241m<\u001B[39m last_day][\u001B[43mtarget_column\u001B[49m]\u001B[38;5;241m.\u001B[39mmean()\n\u001B[1;32m      2\u001B[0m baseline \u001B[38;5;241m=\u001B[39m np\u001B[38;5;241m.\u001B[39mones_like(y_test) \u001B[38;5;241m*\u001B[39m baseline\n\u001B[1;32m      3\u001B[0m \u001B[38;5;28mprint\u001B[39m(\u001B[38;5;124m'\u001B[39m\u001B[38;5;124mlog loss = \u001B[39m\u001B[38;5;124m'\u001B[39m, log_loss(y_test, baseline))\n",
      "\u001B[0;31mNameError\u001B[0m: name 'target_column' is not defined"
     ]
    }
   ],
   "source": [
    "baseline = data[data['date_time'] < last_day][target_column].mean()\n",
    "baseline = np.ones_like(y_test) * baseline\n",
    "print('log loss = ', log_loss(y_test, baseline))\n",
    "print('Roc Auc = ', roc_auc_score(y_test, baseline))"
   ],
   "metadata": {
    "collapsed": false
   }
  },
  {
   "cell_type": "code",
   "execution_count": null,
   "outputs": [],
   "source": [
    "def cv(X: pd.DataFrame, y: pd.Series):\n",
    "    grid = np.linspace(0.1, 1, 10)\n",
    "    results = []\n",
    "    for grid_val in grid:\n",
    "        cur_model = LogisticRegression(solver='liblinear',C=grid_val,penalty='l2')\n",
    "        results.append(np.mean(cross_validate(cur_model, X_train, y_train, scoring=['roc_auc'], cv=3)['test_roc_auc']))\n",
    "        print(grid_val, results[-1])\n",
    "    return results[np.argmax(results)]\n",
    "\n",
    "result = LogisticRegression(solver='liblinear',C=cv(X_train, y_train),penalty='l2')\n",
    "result.fit(X_train, y_train)"
   ],
   "metadata": {
    "collapsed": false
   }
  },
  {
   "cell_type": "code",
   "execution_count": null,
   "outputs": [],
   "source": [
    "y_predicted = result.predict(X_test)\n",
    "print('log loss: ', log_loss(y_test, y_predicted))\n",
    "print('roc auc: ', roc_auc_score(y_test, y_predicted))"
   ],
   "metadata": {
    "collapsed": false
   }
  }
 ],
 "metadata": {
  "kernelspec": {
   "display_name": "Python 3",
   "language": "python",
   "name": "python3"
  },
  "language_info": {
   "codemirror_mode": {
    "name": "ipython",
    "version": 2
   },
   "file_extension": ".py",
   "mimetype": "text/x-python",
   "name": "python",
   "nbconvert_exporter": "python",
   "pygments_lexer": "ipython2",
   "version": "2.7.6"
  }
 },
 "nbformat": 4,
 "nbformat_minor": 0
}
